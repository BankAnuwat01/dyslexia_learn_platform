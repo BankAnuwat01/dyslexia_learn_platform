{
 "cells": [
  {
   "cell_type": "markdown",
   "metadata": {},
   "source": [
    "Syntetic Data Generator"
   ]
  },
  {
   "cell_type": "code",
   "execution_count": 20,
   "metadata": {},
   "outputs": [
    {
     "data": {
      "text/html": [
       "<div>\n",
       "<style scoped>\n",
       "    .dataframe tbody tr th:only-of-type {\n",
       "        vertical-align: middle;\n",
       "    }\n",
       "\n",
       "    .dataframe tbody tr th {\n",
       "        vertical-align: top;\n",
       "    }\n",
       "\n",
       "    .dataframe thead th {\n",
       "        text-align: right;\n",
       "    }\n",
       "</style>\n",
       "<table border=\"1\" class=\"dataframe\">\n",
       "  <thead>\n",
       "    <tr style=\"text-align: right;\">\n",
       "      <th></th>\n",
       "      <th>reading_speed</th>\n",
       "      <th>task_difficulty</th>\n",
       "      <th>reading_comprehension</th>\n",
       "      <th>engagement_level</th>\n",
       "      <th>error_rate</th>\n",
       "      <th>task_completion_time</th>\n",
       "      <th>mood_engagement_score</th>\n",
       "      <th>success_rate</th>\n",
       "      <th>performance_level</th>\n",
       "      <th>reading_fluency_score</th>\n",
       "    </tr>\n",
       "  </thead>\n",
       "  <tbody>\n",
       "    <tr>\n",
       "      <th>0</th>\n",
       "      <td>-0.439643</td>\n",
       "      <td>0.542547</td>\n",
       "      <td>-0.822420</td>\n",
       "      <td>0.401366</td>\n",
       "      <td>-0.854840</td>\n",
       "      <td>2.304901</td>\n",
       "      <td>4</td>\n",
       "      <td>0.323022</td>\n",
       "      <td>0</td>\n",
       "      <td>74.778482</td>\n",
       "    </tr>\n",
       "    <tr>\n",
       "      <th>1</th>\n",
       "      <td>2.822231</td>\n",
       "      <td>-2.480859</td>\n",
       "      <td>-1.147691</td>\n",
       "      <td>-2.101131</td>\n",
       "      <td>3.040278</td>\n",
       "      <td>-0.868324</td>\n",
       "      <td>3</td>\n",
       "      <td>0.977226</td>\n",
       "      <td>1</td>\n",
       "      <td>-42.526773</td>\n",
       "    </tr>\n",
       "    <tr>\n",
       "      <th>2</th>\n",
       "      <td>1.618386</td>\n",
       "      <td>-1.369478</td>\n",
       "      <td>-2.084113</td>\n",
       "      <td>-1.179659</td>\n",
       "      <td>1.613602</td>\n",
       "      <td>1.399851</td>\n",
       "      <td>5</td>\n",
       "      <td>0.548167</td>\n",
       "      <td>1</td>\n",
       "      <td>-24.710152</td>\n",
       "    </tr>\n",
       "    <tr>\n",
       "      <th>3</th>\n",
       "      <td>1.659048</td>\n",
       "      <td>-0.615202</td>\n",
       "      <td>1.112688</td>\n",
       "      <td>-0.835098</td>\n",
       "      <td>-0.272205</td>\n",
       "      <td>0.658260</td>\n",
       "      <td>7</td>\n",
       "      <td>0.768067</td>\n",
       "      <td>1</td>\n",
       "      <td>-87.606834</td>\n",
       "    </tr>\n",
       "    <tr>\n",
       "      <th>4</th>\n",
       "      <td>1.849824</td>\n",
       "      <td>-1.679456</td>\n",
       "      <td>-0.926698</td>\n",
       "      <td>-1.402509</td>\n",
       "      <td>2.123129</td>\n",
       "      <td>-2.180480</td>\n",
       "      <td>5</td>\n",
       "      <td>1.320151</td>\n",
       "      <td>1</td>\n",
       "      <td>-86.379570</td>\n",
       "    </tr>\n",
       "    <tr>\n",
       "      <th>5</th>\n",
       "      <td>0.077111</td>\n",
       "      <td>0.237160</td>\n",
       "      <td>0.584413</td>\n",
       "      <td>0.087275</td>\n",
       "      <td>-0.661753</td>\n",
       "      <td>-0.332678</td>\n",
       "      <td>3</td>\n",
       "      <td>0.861731</td>\n",
       "      <td>0</td>\n",
       "      <td>-38.939408</td>\n",
       "    </tr>\n",
       "    <tr>\n",
       "      <th>6</th>\n",
       "      <td>-0.388754</td>\n",
       "      <td>0.563365</td>\n",
       "      <td>0.014273</td>\n",
       "      <td>0.394581</td>\n",
       "      <td>-0.960128</td>\n",
       "      <td>1.403124</td>\n",
       "      <td>1</td>\n",
       "      <td>0.427461</td>\n",
       "      <td>0</td>\n",
       "      <td>5.115695</td>\n",
       "    </tr>\n",
       "    <tr>\n",
       "      <th>7</th>\n",
       "      <td>2.040959</td>\n",
       "      <td>-0.508362</td>\n",
       "      <td>-1.776235</td>\n",
       "      <td>-0.909452</td>\n",
       "      <td>-0.941722</td>\n",
       "      <td>0.617742</td>\n",
       "      <td>3</td>\n",
       "      <td>0.656804</td>\n",
       "      <td>1</td>\n",
       "      <td>72.312183</td>\n",
       "    </tr>\n",
       "    <tr>\n",
       "      <th>8</th>\n",
       "      <td>1.052441</td>\n",
       "      <td>-0.048267</td>\n",
       "      <td>-0.917503</td>\n",
       "      <td>-0.367493</td>\n",
       "      <td>-1.007995</td>\n",
       "      <td>1.353890</td>\n",
       "      <td>3</td>\n",
       "      <td>0.498077</td>\n",
       "      <td>1</td>\n",
       "      <td>60.962256</td>\n",
       "    </tr>\n",
       "    <tr>\n",
       "      <th>9</th>\n",
       "      <td>0.763016</td>\n",
       "      <td>-0.158370</td>\n",
       "      <td>0.886887</td>\n",
       "      <td>-0.324968</td>\n",
       "      <td>-0.429449</td>\n",
       "      <td>0.453781</td>\n",
       "      <td>2</td>\n",
       "      <td>0.662157</td>\n",
       "      <td>0</td>\n",
       "      <td>-16.477455</td>\n",
       "    </tr>\n",
       "    <tr>\n",
       "      <th>10</th>\n",
       "      <td>1.223628</td>\n",
       "      <td>-1.070968</td>\n",
       "      <td>2.693034</td>\n",
       "      <td>-0.908775</td>\n",
       "      <td>1.306803</td>\n",
       "      <td>-0.050646</td>\n",
       "      <td>6</td>\n",
       "      <td>0.890920</td>\n",
       "      <td>1</td>\n",
       "      <td>-9.381456</td>\n",
       "    </tr>\n",
       "    <tr>\n",
       "      <th>11</th>\n",
       "      <td>-1.437580</td>\n",
       "      <td>1.137972</td>\n",
       "      <td>-1.180813</td>\n",
       "      <td>1.010618</td>\n",
       "      <td>-1.241575</td>\n",
       "      <td>0.550725</td>\n",
       "      <td>2</td>\n",
       "      <td>0.641254</td>\n",
       "      <td>0</td>\n",
       "      <td>-69.243578</td>\n",
       "    </tr>\n",
       "    <tr>\n",
       "      <th>12</th>\n",
       "      <td>-1.802291</td>\n",
       "      <td>1.599489</td>\n",
       "      <td>0.845158</td>\n",
       "      <td>1.349004</td>\n",
       "      <td>-1.978662</td>\n",
       "      <td>-1.175851</td>\n",
       "      <td>6</td>\n",
       "      <td>1.133535</td>\n",
       "      <td>1</td>\n",
       "      <td>13.517996</td>\n",
       "    </tr>\n",
       "    <tr>\n",
       "      <th>13</th>\n",
       "      <td>0.969990</td>\n",
       "      <td>-0.262416</td>\n",
       "      <td>-0.808266</td>\n",
       "      <td>-0.442102</td>\n",
       "      <td>-0.396736</td>\n",
       "      <td>-0.190560</td>\n",
       "      <td>6</td>\n",
       "      <td>0.921088</td>\n",
       "      <td>1</td>\n",
       "      <td>55.343061</td>\n",
       "    </tr>\n",
       "    <tr>\n",
       "      <th>14</th>\n",
       "      <td>-2.271847</td>\n",
       "      <td>1.470974</td>\n",
       "      <td>-1.293273</td>\n",
       "      <td>1.441772</td>\n",
       "      <td>-1.162441</td>\n",
       "      <td>-0.211068</td>\n",
       "      <td>3</td>\n",
       "      <td>0.835510</td>\n",
       "      <td>0</td>\n",
       "      <td>84.556228</td>\n",
       "    </tr>\n",
       "    <tr>\n",
       "      <th>15</th>\n",
       "      <td>1.246700</td>\n",
       "      <td>-1.127925</td>\n",
       "      <td>-0.212209</td>\n",
       "      <td>-0.943353</td>\n",
       "      <td>1.421236</td>\n",
       "      <td>-1.352197</td>\n",
       "      <td>5</td>\n",
       "      <td>1.141558</td>\n",
       "      <td>1</td>\n",
       "      <td>59.427745</td>\n",
       "    </tr>\n",
       "    <tr>\n",
       "      <th>16</th>\n",
       "      <td>1.349370</td>\n",
       "      <td>-1.171285</td>\n",
       "      <td>0.393797</td>\n",
       "      <td>-0.997542</td>\n",
       "      <td>1.417308</td>\n",
       "      <td>-0.651320</td>\n",
       "      <td>6</td>\n",
       "      <td>1.020436</td>\n",
       "      <td>1</td>\n",
       "      <td>-87.305452</td>\n",
       "    </tr>\n",
       "    <tr>\n",
       "      <th>17</th>\n",
       "      <td>-2.142140</td>\n",
       "      <td>1.528581</td>\n",
       "      <td>-0.869663</td>\n",
       "      <td>1.426636</td>\n",
       "      <td>-1.441905</td>\n",
       "      <td>0.182512</td>\n",
       "      <td>4</td>\n",
       "      <td>0.780647</td>\n",
       "      <td>0</td>\n",
       "      <td>-41.657321</td>\n",
       "    </tr>\n",
       "    <tr>\n",
       "      <th>18</th>\n",
       "      <td>-0.876195</td>\n",
       "      <td>0.734667</td>\n",
       "      <td>-1.189412</td>\n",
       "      <td>0.635456</td>\n",
       "      <td>-0.857072</td>\n",
       "      <td>-1.254051</td>\n",
       "      <td>4</td>\n",
       "      <td>1.090396</td>\n",
       "      <td>1</td>\n",
       "      <td>-69.450253</td>\n",
       "    </tr>\n",
       "    <tr>\n",
       "      <th>19</th>\n",
       "      <td>-0.995021</td>\n",
       "      <td>1.194306</td>\n",
       "      <td>0.650450</td>\n",
       "      <td>0.892443</td>\n",
       "      <td>-1.852615</td>\n",
       "      <td>-0.386370</td>\n",
       "      <td>4</td>\n",
       "      <td>0.903308</td>\n",
       "      <td>1</td>\n",
       "      <td>-81.827858</td>\n",
       "    </tr>\n",
       "  </tbody>\n",
       "</table>\n",
       "</div>"
      ],
      "text/plain": [
       "    reading_speed  task_difficulty  reading_comprehension  engagement_level  \\\n",
       "0       -0.439643         0.542547              -0.822420          0.401366   \n",
       "1        2.822231        -2.480859              -1.147691         -2.101131   \n",
       "2        1.618386        -1.369478              -2.084113         -1.179659   \n",
       "3        1.659048        -0.615202               1.112688         -0.835098   \n",
       "4        1.849824        -1.679456              -0.926698         -1.402509   \n",
       "5        0.077111         0.237160               0.584413          0.087275   \n",
       "6       -0.388754         0.563365               0.014273          0.394581   \n",
       "7        2.040959        -0.508362              -1.776235         -0.909452   \n",
       "8        1.052441        -0.048267              -0.917503         -0.367493   \n",
       "9        0.763016        -0.158370               0.886887         -0.324968   \n",
       "10       1.223628        -1.070968               2.693034         -0.908775   \n",
       "11      -1.437580         1.137972              -1.180813          1.010618   \n",
       "12      -1.802291         1.599489               0.845158          1.349004   \n",
       "13       0.969990        -0.262416              -0.808266         -0.442102   \n",
       "14      -2.271847         1.470974              -1.293273          1.441772   \n",
       "15       1.246700        -1.127925              -0.212209         -0.943353   \n",
       "16       1.349370        -1.171285               0.393797         -0.997542   \n",
       "17      -2.142140         1.528581              -0.869663          1.426636   \n",
       "18      -0.876195         0.734667              -1.189412          0.635456   \n",
       "19      -0.995021         1.194306               0.650450          0.892443   \n",
       "\n",
       "    error_rate  task_completion_time  mood_engagement_score  success_rate  \\\n",
       "0    -0.854840              2.304901                      4      0.323022   \n",
       "1     3.040278             -0.868324                      3      0.977226   \n",
       "2     1.613602              1.399851                      5      0.548167   \n",
       "3    -0.272205              0.658260                      7      0.768067   \n",
       "4     2.123129             -2.180480                      5      1.320151   \n",
       "5    -0.661753             -0.332678                      3      0.861731   \n",
       "6    -0.960128              1.403124                      1      0.427461   \n",
       "7    -0.941722              0.617742                      3      0.656804   \n",
       "8    -1.007995              1.353890                      3      0.498077   \n",
       "9    -0.429449              0.453781                      2      0.662157   \n",
       "10    1.306803             -0.050646                      6      0.890920   \n",
       "11   -1.241575              0.550725                      2      0.641254   \n",
       "12   -1.978662             -1.175851                      6      1.133535   \n",
       "13   -0.396736             -0.190560                      6      0.921088   \n",
       "14   -1.162441             -0.211068                      3      0.835510   \n",
       "15    1.421236             -1.352197                      5      1.141558   \n",
       "16    1.417308             -0.651320                      6      1.020436   \n",
       "17   -1.441905              0.182512                      4      0.780647   \n",
       "18   -0.857072             -1.254051                      4      1.090396   \n",
       "19   -1.852615             -0.386370                      4      0.903308   \n",
       "\n",
       "    performance_level  reading_fluency_score  \n",
       "0                   0              74.778482  \n",
       "1                   1             -42.526773  \n",
       "2                   1             -24.710152  \n",
       "3                   1             -87.606834  \n",
       "4                   1             -86.379570  \n",
       "5                   0             -38.939408  \n",
       "6                   0               5.115695  \n",
       "7                   1              72.312183  \n",
       "8                   1              60.962256  \n",
       "9                   0             -16.477455  \n",
       "10                  1              -9.381456  \n",
       "11                  0             -69.243578  \n",
       "12                  1              13.517996  \n",
       "13                  1              55.343061  \n",
       "14                  0              84.556228  \n",
       "15                  1              59.427745  \n",
       "16                  1             -87.305452  \n",
       "17                  0             -41.657321  \n",
       "18                  1             -69.450253  \n",
       "19                  1             -81.827858  "
      ]
     },
     "execution_count": 20,
     "metadata": {},
     "output_type": "execute_result"
    }
   ],
   "source": [
    "import pandas as pd\n",
    "import numpy as np\n",
    "from sklearn.datasets import make_classification, make_regression\n",
    "import random\n",
    "\n",
    "# Set a random seed for reproducibility\n",
    "random.seed(42)\n",
    "np.random.seed(42)\n",
    "\n",
    "# Function to generate synthetic data with relatable features for dyslexia platform\n",
    "def generate_synthetic_data(num_samples=1000):\n",
    "    # Generate classification data (performance level prediction)\n",
    "    X_class, y_class = make_classification(n_samples=num_samples, n_features=5, n_classes=2, random_state=42)  # Binary classification\n",
    "    \n",
    "    # Generate regression data for reading fluency (assuming this is important in your dyslexia platform)\n",
    "    X_reg, y_reg = make_regression(n_samples=num_samples, n_features=5, noise=0.1, random_state=42)\n",
    "    \n",
    "    # Create synthetic student data\n",
    "    student_data = pd.DataFrame(X_class, columns=['reading_speed', 'task_difficulty', 'reading_comprehension', 'engagement_level', 'error_rate'])\n",
    "    \n",
    "    # Task completion time correlated with reading fluency and mood/engagement\n",
    "    task_completion_time = X_reg[:, 0] + np.random.normal(0, 0.5, num_samples)  # Adding noise to completion time\n",
    "    \n",
    "    # Mood/engagement score influenced by success rate (simulating how mood/engagement impacts learning)\n",
    "    mood_engagement_score = (y_class * 2) + np.random.randint(1, 6, num_samples)  # Making mood score related to performance level\n",
    "    \n",
    "    # Success rate based on task completion time and mood/engagement\n",
    "    success_rate = 0.7 * (1 - task_completion_time / np.max(task_completion_time)) + 0.3 * (mood_engagement_score / 10)  # A weighted sum\n",
    "    \n",
    "    # Create the DataFrame with the new correlations\n",
    "    student_data['task_completion_time'] = task_completion_time\n",
    "    student_data['mood_engagement_score'] = mood_engagement_score\n",
    "    student_data['success_rate'] = success_rate\n",
    "    \n",
    "    # Add the target columns for classification and regression\n",
    "    student_data['performance_level'] = y_class  # Classification target (performance level)\n",
    "    student_data['reading_fluency_score'] = y_reg + np.random.normal(0, 1, num_samples)  # Regression target with noise\n",
    "    \n",
    "    return student_data\n",
    "\n",
    "# Generate the synthetic data\n",
    "num_samples = 1000\n",
    "synthetic_data = generate_synthetic_data(num_samples)\n",
    "\n",
    "# Save the synthetic data as a CSV file\n",
    "synthetic_data.to_csv('synthetic_dyslexia_data.csv', index=False)\n",
    "\n",
    "# Optionally, print the first few rows of the data to check\n",
    "synthetic_data.head(20)\n"
   ]
  },
  {
   "cell_type": "markdown",
   "metadata": {},
   "source": [
    "Train a Classification Model"
   ]
  },
  {
   "cell_type": "code",
   "execution_count": 15,
   "metadata": {},
   "outputs": [
    {
     "name": "stdout",
     "output_type": "stream",
     "text": [
      "Accuracy: 94.50%\n",
      "              precision    recall  f1-score   support\n",
      "\n",
      "           0       0.93      0.96      0.94        97\n",
      "           1       0.96      0.93      0.95       103\n",
      "\n",
      "    accuracy                           0.94       200\n",
      "   macro avg       0.95      0.95      0.94       200\n",
      "weighted avg       0.95      0.94      0.95       200\n",
      "\n"
     ]
    }
   ],
   "source": [
    "import pandas as pd\n",
    "import numpy as np\n",
    "from sklearn.model_selection import train_test_split\n",
    "from sklearn.ensemble import RandomForestClassifier\n",
    "from sklearn.metrics import accuracy_score, classification_report\n",
    "\n",
    "# Load your dataset\n",
    "synthetic_data = pd.read_csv('synthetic_dyslexia_data.csv')\n",
    "\n",
    "# Features and target variable\n",
    "features = ['reading_speed', 'task_difficulty', 'reading_comprehension', 'engagement_level', 'error_rate', 'task_completion_time', 'mood_engagement_score', 'success_rate']\n",
    "target = 'performance_level'\n",
    "\n",
    "X = synthetic_data[features]\n",
    "y = synthetic_data[target]\n",
    "\n",
    "# Split the data into training and test sets\n",
    "X_train, X_test, y_train, y_test = train_test_split(X, y, test_size=0.2, random_state=42)\n",
    "\n",
    "# Initialize the model (Random Forest Classifier in this case)\n",
    "model = RandomForestClassifier(random_state=42)\n",
    "\n",
    "# Train the model\n",
    "model.fit(X_train, y_train)\n",
    "\n",
    "# Make predictions on the test set\n",
    "y_pred = model.predict(X_test)\n",
    "\n",
    "# Evaluate the model\n",
    "accuracy = accuracy_score(y_test, y_pred)\n",
    "print(f\"Accuracy: {accuracy * 100:.2f}%\")\n",
    "print(classification_report(y_test, y_pred))\n",
    "\n",
    "\n"
   ]
  },
  {
   "cell_type": "markdown",
   "metadata": {},
   "source": [
    "Train a Regression Model"
   ]
  },
  {
   "cell_type": "code",
   "execution_count": 17,
   "metadata": {},
   "outputs": [
    {
     "name": "stdout",
     "output_type": "stream",
     "text": [
      "Mean Squared Error: 3266.53\n",
      "R^2 Score: 0.12\n"
     ]
    }
   ],
   "source": [
    "from sklearn.ensemble import RandomForestRegressor\n",
    "from sklearn.metrics import mean_squared_error, r2_score\n",
    "\n",
    "# Features and target variable\n",
    "features = ['reading_speed', 'task_difficulty', 'reading_comprehension', 'engagement_level', 'error_rate', 'task_completion_time', 'mood_engagement_score', 'success_rate']\n",
    "target = 'reading_fluency_score'\n",
    "\n",
    "X = synthetic_data[features]\n",
    "y = synthetic_data[target]\n",
    "\n",
    "# Split the data into training and test sets\n",
    "X_train, X_test, y_train, y_test = train_test_split(X, y, test_size=0.2, random_state=42)\n",
    "\n",
    "# Initialize the model (Random Forest Regressor)\n",
    "model = RandomForestRegressor(random_state=42)\n",
    "\n",
    "# Train the model\n",
    "model.fit(X_train, y_train)\n",
    "\n",
    "# Make predictions on the test set\n",
    "y_pred = model.predict(X_test)\n",
    "\n",
    "# Evaluate the model\n",
    "mse = mean_squared_error(y_test, y_pred)\n",
    "r2 = r2_score(y_test, y_pred)\n",
    "print(f\"Mean Squared Error: {mse:.2f}\")\n",
    "print(f\"R^2 Score: {r2:.2f}\")"
   ]
  },
  {
   "cell_type": "markdown",
   "metadata": {},
   "source": [
    "Prediction with Classification Model"
   ]
  },
  {
   "cell_type": "code",
   "execution_count": 16,
   "metadata": {},
   "outputs": [
    {
     "name": "stdout",
     "output_type": "stream",
     "text": [
      "Predicted Performance Level: 1\n"
     ]
    },
    {
     "name": "stderr",
     "output_type": "stream",
     "text": [
      "c:\\Users\\USER\\AppData\\Local\\Programs\\Python\\Python310\\lib\\site-packages\\sklearn\\base.py:493: UserWarning: X does not have valid feature names, but RandomForestClassifier was fitted with feature names\n",
      "  warnings.warn(\n"
     ]
    }
   ],
   "source": [
    "# Example: Making predictions for a new student \n",
    "# features = ['reading_speed', 'task_difficulty', 'reading_comprehension', 'engagement_level', 'error_rate', 'task_completion_time', \n",
    "# 'mood_engagement_score', 'success_rate']\n",
    "new_student = np.array([[3.5, 0.6, 7, 8, 0.1, 3.0, 6, 0.85]])  # Example features for a new student\n",
    "predicted_performance_level = model.predict(new_student)\n",
    "print(f\"Predicted Performance Level: {predicted_performance_level[0]}\")"
   ]
  },
  {
   "cell_type": "markdown",
   "metadata": {},
   "source": [
    "Prediction with Regression Model"
   ]
  },
  {
   "cell_type": "code",
   "execution_count": 19,
   "metadata": {},
   "outputs": [
    {
     "name": "stdout",
     "output_type": "stream",
     "text": [
      "Predicted Reading Fluency: 0.83\n"
     ]
    },
    {
     "name": "stderr",
     "output_type": "stream",
     "text": [
      "c:\\Users\\USER\\AppData\\Local\\Programs\\Python\\Python310\\lib\\site-packages\\sklearn\\base.py:493: UserWarning: X does not have valid feature names, but RandomForestRegressor was fitted with feature names\n",
      "  warnings.warn(\n"
     ]
    }
   ],
   "source": [
    "\n",
    "# Example: Making predictions for a new student\n",
    "# features = ['reading_speed', 'task_difficulty', 'reading_comprehension', 'engagement_level', 'error_rate', \n",
    "# 'task_completion_time', 'mood_engagement_score', 'success_rate']\n",
    "new_student = np.array([[3.5, 0.6, 7, 8, 0.1, 3.0, 6, 0.85]])  # Example features for a new student\n",
    "predicted_reading_fluency = model.predict(new_student)\n",
    "print(f\"Predicted Reading Fluency: {predicted_reading_fluency[0]:.2f}\")\n"
   ]
  },
  {
   "cell_type": "markdown",
   "metadata": {},
   "source": [
    "Save Model"
   ]
  },
  {
   "cell_type": "code",
   "execution_count": 5,
   "metadata": {},
   "outputs": [
    {
     "name": "stdout",
     "output_type": "stream",
     "text": [
      "Models trained successfully.\n"
     ]
    }
   ],
   "source": [
    "import pandas as pd\n",
    "import numpy as np\n",
    "from sklearn.model_selection import train_test_split\n",
    "from sklearn.ensemble import RandomForestClassifier, RandomForestRegressor\n",
    "\n",
    "# Generate synthetic data (or load your dataset)\n",
    "synthetic_data = pd.read_csv('synthetic_dyslexia_data.csv')\n",
    "\n",
    "# Features and target variable for classification (performance_level)\n",
    "features = ['reading_speed', 'task_difficulty', 'reading_comprehension', 'engagement_level', 'error_rate', 'task_completion_time', 'mood_engagement_score', 'success_rate']\n",
    "target_class = 'performance_level'\n",
    "\n",
    "# Features and target variable for regression (reading_fluency_score)\n",
    "target_reg = 'reading_fluency_score'\n",
    "\n",
    "X = synthetic_data[features]\n",
    "y_class = synthetic_data[target_class]\n",
    "y_reg = synthetic_data[target_reg]\n",
    "\n",
    "# Split the data into training and test sets\n",
    "X_train, X_test, y_train_class, y_test_class, y_train_reg, y_test_reg = train_test_split(X, y_class, y_reg, test_size=0.2, random_state=42)\n",
    "\n",
    "# Initialize and train the models\n",
    "classification_model = RandomForestClassifier(random_state=42)\n",
    "classification_model.fit(X_train, y_train_class)\n",
    "\n",
    "regression_model = RandomForestRegressor(random_state=42)\n",
    "regression_model.fit(X_train, y_train_reg)\n",
    "\n",
    "# Now the models are trained and ready for saving\n",
    "print(\"Models trained successfully.\")\n"
   ]
  },
  {
   "cell_type": "code",
   "execution_count": 3,
   "metadata": {},
   "outputs": [],
   "source": [
    "import pickle"
   ]
  },
  {
   "cell_type": "code",
   "execution_count": 8,
   "metadata": {},
   "outputs": [
    {
     "name": "stdout",
     "output_type": "stream",
     "text": [
      "Model saved successfully.\n"
     ]
    }
   ],
   "source": [
    "model_path = \"classification_model.pkl\"\n",
    "with open(model_path, \"wb\") as f:\n",
    "    pickle.dump(classification_model, f)\n",
    "print(\"Model saved successfully.\")"
   ]
  },
  {
   "cell_type": "code",
   "execution_count": 9,
   "metadata": {},
   "outputs": [
    {
     "name": "stdout",
     "output_type": "stream",
     "text": [
      "Model saved successfully.\n"
     ]
    }
   ],
   "source": [
    "model_path = \"regression_model.pkl\"\n",
    "with open(model_path, \"wb\") as f:\n",
    "    pickle.dump(regression_model, f)\n",
    "print(\"Model saved successfully.\")"
   ]
  },
  {
   "cell_type": "code",
   "execution_count": 25,
   "metadata": {},
   "outputs": [
    {
     "name": "stdout",
     "output_type": "stream",
     "text": [
      "Classification prediction: [1]\n",
      "Regression prediction: [0.83248512]\n"
     ]
    },
    {
     "name": "stderr",
     "output_type": "stream",
     "text": [
      "c:\\Users\\USER\\AppData\\Local\\Programs\\Python\\Python310\\lib\\site-packages\\sklearn\\base.py:493: UserWarning: X does not have valid feature names, but RandomForestClassifier was fitted with feature names\n",
      "  warnings.warn(\n",
      "c:\\Users\\USER\\AppData\\Local\\Programs\\Python\\Python310\\lib\\site-packages\\sklearn\\base.py:493: UserWarning: X does not have valid feature names, but RandomForestRegressor was fitted with feature names\n",
      "  warnings.warn(\n"
     ]
    }
   ],
   "source": [
    "# Example: Making a prediction for classification\n",
    "new_student_classification_data = np.array([[3.5, 0.6, 7, 8, 0.1, 3.0, 6, 0.85]])  # Example features\n",
    "classification_prediction = classification_model.predict(new_student_classification_data)\n",
    "\n",
    "# Example: Making a prediction for regression\n",
    "new_student_regression_data = np.array([[3.5, 0.6, 7, 8, 0.1, 3.0, 6, 0.85]])  # Example features\n",
    "regression_prediction = regression_model.predict(new_student_regression_data)\n",
    "\n",
    "print(f\"Classification prediction: {classification_prediction}\")\n",
    "print(f\"Regression prediction: {regression_prediction}\")\n"
   ]
  },
  {
   "cell_type": "markdown",
   "metadata": {},
   "source": [
    "Connect ML to webapp"
   ]
  },
  {
   "cell_type": "code",
   "execution_count": null,
   "metadata": {},
   "outputs": [],
   "source": [
    "import json\n",
    "import sys\n",
    "import pandas as pd\n",
    "from sklearn.externals import joblib\n",
    "\n",
    "data = json.loads(sys.argv[1])\n",
    "model = joblib.load('classification_model.pkl')\n",
    "\n",
    "predictions = model.predict(pd.DataFrame(data))\n",
    "print(json.dumps({'labels': ['A', 'B'], 'values': predictions.tolist()}))\n"
   ]
  },
  {
   "cell_type": "code",
   "execution_count": null,
   "metadata": {},
   "outputs": [],
   "source": [
    "import json\n",
    "import sys\n",
    "import numpy as np\n",
    "from sklearn.externals import joblib\n",
    "\n",
    "# Load models\n",
    "regression_model = joblib.load('regression_model.pkl')\n",
    "\n",
    "# Get input data\n",
    "input_data = json.loads(sys.argv[1])\n",
    "features = np.array(input_data['featureData'])\n",
    "\n",
    "# Make predictions\n",
    "predicted_values = regression_model.predict(features)\n",
    "\n",
    "# Return as JSON\n",
    "output = {\n",
    "    'timeLabels': ['Week 1', 'Week 2', 'Week 3'],\n",
    "    'predictedValues': predicted_values.tolist(),\n",
    "}\n",
    "print(json.dumps(output))\n"
   ]
  },
  {
   "cell_type": "markdown",
   "metadata": {},
   "source": [
    "Test the prediction on frontend"
   ]
  },
  {
   "cell_type": "code",
   "execution_count": 1,
   "metadata": {},
   "outputs": [
    {
     "name": "stdout",
     "output_type": "stream",
     "text": [
      "Response: {'error': '4 columns passed, passed data had 8 columns'}\n"
     ]
    }
   ],
   "source": [
    "import requests\n",
    "\n",
    "url = \"http://127.0.0.1:5000/predict\"\n",
    "headers = {\"Content-Type\": \"application/json\"}\n",
    "data = {\"features\": [-0.439643, 0.542547,\t-0.822420,\t0.401366,\t-0.854840,\t2.304901,\t4,\t0.323022]}\n",
    "\n",
    "response = requests.post(url, json=data, headers=headers)\n",
    "print(\"Response:\", response.json())\n"
   ]
  },
  {
   "cell_type": "code",
   "execution_count": 11,
   "metadata": {},
   "outputs": [
    {
     "name": "stdout",
     "output_type": "stream",
     "text": [
      "<class 'sklearn.ensemble._forest.RandomForestClassifier'>\n"
     ]
    }
   ],
   "source": [
    "import pickle\n",
    "\n",
    "model_path = \"model/classification_model.pkl\"\n",
    "with open(model_path, \"rb\") as file:\n",
    "    model = pickle.load(file)\n",
    "\n",
    "print(type(model))\n"
   ]
  },
  {
   "cell_type": "code",
   "execution_count": null,
   "metadata": {},
   "outputs": [],
   "source": []
  },
  {
   "cell_type": "code",
   "execution_count": null,
   "metadata": {},
   "outputs": [],
   "source": []
  },
  {
   "cell_type": "code",
   "execution_count": null,
   "metadata": {},
   "outputs": [],
   "source": []
  }
 ],
 "metadata": {
  "kernelspec": {
   "display_name": "Python 3",
   "language": "python",
   "name": "python3"
  },
  "language_info": {
   "codemirror_mode": {
    "name": "ipython",
    "version": 3
   },
   "file_extension": ".py",
   "mimetype": "text/x-python",
   "name": "python",
   "nbconvert_exporter": "python",
   "pygments_lexer": "ipython3",
   "version": "3.10.4"
  }
 },
 "nbformat": 4,
 "nbformat_minor": 2
}
